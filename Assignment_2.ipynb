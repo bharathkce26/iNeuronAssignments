{
 "cells": [
  {
   "cell_type": "code",
   "execution_count": null,
   "id": "2d3f47bb",
   "metadata": {},
   "outputs": [],
   "source": [
    "1.What are the two values of the Boolean data type? How do you write them?\n",
    "  True and False\n",
    "  a = True\n",
    "  b = False"
   ]
  },
  {
   "cell_type": "code",
   "execution_count": null,
   "id": "3b0d7350",
   "metadata": {},
   "outputs": [],
   "source": [
    "2. What are the three different types of Boolean operators? \n",
    "and, or and not"
   ]
  },
  {
   "cell_type": "code",
   "execution_count": null,
   "id": "2e9dbcc7",
   "metadata": {},
   "outputs": [],
   "source": [
    "3. Make a list of each Boolean operator's truth tables (i.e. every possible combination of Boolean values for the operator and what it evaluate ).\n",
    "x\t==\ty\tReturns\n",
    "True\t==\tTrue\tTrue\n",
    "True\t==\tFalse\tFalse\n",
    "False\t==\tTrue\tFalse\n",
    "False\t==\tFalse\tTrue\n",
    "AND Truth Table\n",
    "x\tand\ty\tReturns\n",
    "True\tand\tTrue\tTrue\n",
    "True\tand\tFalse\tFalse\n",
    "False\tand\tTrue\tFalse\n",
    "False\tand\tFalse\tFalse\n",
    "OR Truth Table\n",
    "x\tor\ty\tReturns\n",
    "True\tor\tTrue\tTrue\n",
    "True\tor\tFalse\tTrue\n",
    "False\tor\tTrue\tTrue\n",
    "False\tor\tFalse\tFalse\n",
    "NOT Truth Table\n",
    "not\tx\tReturns\n",
    "not\tTrue\tFalse\n",
    "not\tFalse\tTrue"
   ]
  },
  {
   "cell_type": "code",
   "execution_count": null,
   "id": "1bd56a26",
   "metadata": {},
   "outputs": [],
   "source": [
    "4. What are the values of the following expressions?\n",
    " (5 > 4) and (3 == 5)  False\n",
    " not(5 > 4)            False\n",
    " (5 > 4) or (3 == 5)   True\n",
    " not ((5 > 4) or (3 == 5))  False\n",
    " (True and True) and (True == False) False\n",
    " (not False) or (not True)  True\n"
   ]
  },
  {
   "cell_type": "code",
   "execution_count": null,
   "id": "5cf8aa1c",
   "metadata": {},
   "outputs": [],
   "source": [
    "5. What are the six comparison operators?\n",
    "Ans : Python has six comparison operators which are\n",
    "1. Less than ( < )\n",
    "2. Less than or equal to (<=)\n",
    "3. Greater than (>)\n",
    "4. Greater than or equal to (>=)\n",
    "5. Equal to ( == )\n",
    "6. Not equal to ( != )"
   ]
  },
  {
   "cell_type": "code",
   "execution_count": null,
   "id": "578b7f8e",
   "metadata": {},
   "outputs": [],
   "source": [
    "6. How do you tell the difference between the equal to and assignment operators?Describe a condition and when you would use one.\n",
    "\"=\" symbol is defined as assignment operator.  It is used to assign the value on the right to the variable on the left.\n",
    " \"==\" symbol is a comparison operator and called equal to operator . We  use to check if  operands on either side are equal\n",
    " or not"
   ]
  },
  {
   "cell_type": "code",
   "execution_count": null,
   "id": "5aa18875",
   "metadata": {},
   "outputs": [],
   "source": [
    "7. Identify the three blocks in this code:\n",
    "spam = 0\n",
    "if spam == 10: // first block\n",
    "    print('eggs') \n",
    "if spam > 5: // second block\n",
    "    print('bacon')  \n",
    "else: //third block\n",
    "    print('ham')\n",
    "    print('spam')\n",
    "    print('spam')\n",
    "\n",
    "The first block is if block where spam is compared with value 10.\n",
    "The second block is if block where spam is compared with value 5.\n",
    "The third block is else block.\n"
   ]
  },
  {
   "cell_type": "code",
   "execution_count": null,
   "id": "3c7b8a9a",
   "metadata": {},
   "outputs": [],
   "source": [
    "8. Write code that prints Hello if 1 is stored in spam, prints Howdy if 2 is stored in spam, and prints Greetings! if anything else is stored in spam.\n",
    "if(spam == 1):\n",
    "    print(\"Hello\")\n",
    "elif(spam == 2):\n",
    "    print(\"Howdy\")\n",
    "else:\n",
    "    print(\"Greetings!\")"
   ]
  },
  {
   "cell_type": "code",
   "execution_count": null,
   "id": "1e59e25d",
   "metadata": {},
   "outputs": [],
   "source": [
    "9.If your programme is stuck in an endless loop, what keys you’ll press?\n",
    "Ans : Ctrl + C"
   ]
  },
  {
   "cell_type": "code",
   "execution_count": null,
   "id": "baaa74b3",
   "metadata": {},
   "outputs": [],
   "source": [
    "10. How can you tell the difference between break and continue?\n",
    "  With break statement, it terminates the execution of the current loop.\n",
    "  With continue statement, it skips the code that comes after it and the control is passed back \n",
    "  to the start for the next iteration."
   ]
  },
  {
   "cell_type": "code",
   "execution_count": null,
   "id": "8abe3a05",
   "metadata": {},
   "outputs": [],
   "source": [
    "11. In a for loop, what is the difference between range(10), range(0, 10), and range(0, 10, 1)?\n",
    "    range(10) -> If we use in for loop it prints 0 till 9 . start and stepsize value take default values 0 and 1 respectively\n",
    "    range(0,10) ->If we use in for loop it prints 0 till 9. Since stepsize value is not given it take default value  as 1\n",
    "    range(0, 10, 1)-> If we use in for loop it prints 0 till 9"
   ]
  },
  {
   "cell_type": "code",
   "execution_count": null,
   "id": "4359e8b7",
   "metadata": {},
   "outputs": [],
   "source": [
    "12. Write a short program that prints the numbers 1 to 10 using a for loop. Then write an equivalent program that prints the numbers 1 to 10 using a while loop.\n",
    "   for i in range(1,11):\n",
    "    print(i)\n",
    "    \n",
    "   i = 1\n",
    "   while i <= 10:\n",
    "    print(i)\n",
    "    i = i + 1  \n",
    "    \n"
   ]
  },
  {
   "cell_type": "code",
   "execution_count": null,
   "id": "d13189f8",
   "metadata": {},
   "outputs": [],
   "source": [
    "13. If you had a function named bacon() inside a module named spam, how would you call it after importing spam?\n",
    "spam.bacon()"
   ]
  }
 ],
 "metadata": {
  "kernelspec": {
   "display_name": "Python 3 (ipykernel)",
   "language": "python",
   "name": "python3"
  },
  "language_info": {
   "codemirror_mode": {
    "name": "ipython",
    "version": 3
   },
   "file_extension": ".py",
   "mimetype": "text/x-python",
   "name": "python",
   "nbconvert_exporter": "python",
   "pygments_lexer": "ipython3",
   "version": "3.9.7"
  }
 },
 "nbformat": 4,
 "nbformat_minor": 5
}
