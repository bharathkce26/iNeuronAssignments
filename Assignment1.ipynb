{
 "cells": [
  {
   "cell_type": "markdown",
   "id": "3c645d5a",
   "metadata": {},
   "source": [
    "##1. In the below elements which of them are values or an expression? eg:- values can be integer or string and expressions will be mathematical operators.\n",
    "    * = expression,   'hello'  = values,  -87.8    = values,  -  = expression\n",
    "   / = expression,   +  = expression,    6 = values\n"
   ]
  },
  {
   "cell_type": "markdown",
   "id": "8a06f0ba",
   "metadata": {},
   "source": [
    "##2. What is the difference between string and variable?\n",
    "   A string is a series of charatcers.\n",
    "   Anything inside quotes is a string\n",
    "   A variable is basically the name of the location in the primary memory of your computer. \n",
    "   A variable is something that stores data  "
   ]
  },
  {
   "cell_type": "markdown",
   "id": "a45f5fe4",
   "metadata": {},
   "source": [
    "##3. Describe three different data types\n",
    "numeric data type represent the data which has numeric value. Numeric value can be integer, floating number or even complex numbers. \n",
    "List is an ordered collection of data\n",
    "Set holds unordered collection of unique items\n",
    "Dictionary holds unordered collection of key-value pairs\n",
    "Tuple is an ordered sequence of items .  tuples are immutable."
   ]
  },
  {
   "cell_type": "markdown",
   "id": "607fc27a",
   "metadata": {},
   "source": [
    "##4. What is an expression made up of? What do all expressions do?\n",
    "An expression is a combination of operators and operands that is evaluated to to produce a value"
   ]
  },
  {
   "cell_type": "markdown",
   "id": "e928c478",
   "metadata": {},
   "source": [
    " ##5. This assignment statements, like spam = 10. What is the difference between an expression and a statement?\n",
    " An expression evaluates to a single value. A statement does not"
   ]
  },
  {
   "cell_type": "markdown",
   "id": "bb5dca16",
   "metadata": {},
   "source": [
    "##6. After running the following code, what does the variable bacon contain?\n",
    "bacon = 22\n",
    "bacon + 1\n",
    "Output : 22"
   ]
  },
  {
   "cell_type": "markdown",
   "id": "c756e9eb",
   "metadata": {},
   "source": [
    "##7. What should the values of the following two terms be?\n",
    "'spam' + 'spamspam' => 'spamspamspam'\n",
    "'spam' * 3 => 'spamspamspam'\n"
   ]
  },
  {
   "cell_type": "markdown",
   "id": "c9e1f5be",
   "metadata": {},
   "source": [
    "##8. Why is eggs a valid variable name while 100 is invalid?\n",
    "Variable names cannot begin with a number."
   ]
  },
  {
   "cell_type": "markdown",
   "id": "fc5509b8",
   "metadata": {},
   "source": [
    "##9. What three functions can be used to get the integer, floating-point number, or string version of a value?\n",
    " int() , float() , str()"
   ]
  },
  {
   "cell_type": "markdown",
   "id": "97d3927f",
   "metadata": {},
   "source": [
    "##10. Why does this expression cause an error? How can you fix it?\n",
    "'I have eaten ' + 99 + ' burritos.'\n",
    "It causes error because it can only concatenate str (not \"int\") to str\n",
    "We can fix it by enclosing with str () function\n",
    "'I have eaten ' + str(99) + ' burritos.'"
   ]
  }
 ],
 "metadata": {
  "kernelspec": {
   "display_name": "Python 3 (ipykernel)",
   "language": "python",
   "name": "python3"
  },
  "language_info": {
   "codemirror_mode": {
    "name": "ipython",
    "version": 3
   },
   "file_extension": ".py",
   "mimetype": "text/x-python",
   "name": "python",
   "nbconvert_exporter": "python",
   "pygments_lexer": "ipython3",
   "version": "3.9.7"
  }
 },
 "nbformat": 4,
 "nbformat_minor": 5
}
